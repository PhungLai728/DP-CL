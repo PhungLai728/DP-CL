{
 "cells": [
  {
   "cell_type": "code",
   "execution_count": 1,
   "metadata": {
    "scrolled": false
   },
   "outputs": [],
   "source": [
    "import math\n",
    "import sys\n",
    "import numpy as np\n",
    "from scipy.integrate import simps\n",
    "import matplotlib.colors as colors\n",
    "import matplotlib.cm as cmx\n",
    "import matplotlib.pyplot as plt\n",
    "import matplotlib.figure as figure\n",
    "import matplotlib.patches as mpatches\n",
    "from matplotlib.ticker import FormatStrFormatter\n",
    "from six.moves import cPickle as pickle\n",
    "from scipy.spatial.distance import cosine"
   ]
  },
  {
   "cell_type": "code",
   "execution_count": 2,
   "metadata": {},
   "outputs": [],
   "source": [
    "from matplotlib import rc\n",
    "rc('font',**{'family':'sans-serif','sans-serif':['Helvetica']})\n"
   ]
  },
  {
   "cell_type": "code",
   "execution_count": 2,
   "metadata": {
    "scrolled": false
   },
   "outputs": [],
   "source": [
    "# Helper functions\n",
    "def unpickle_data(pickle_file):\n",
    "    \"\"\"\n",
    "    Unpickles the data from a pickle file\n",
    "    \"\"\"\n",
    "    f = open(pickle_file, 'rb')\n",
    "    return pickle.load(f)\n",
    "\n",
    "def populate_data_dict(data_dict, key, pickle_file):\n",
    "    \"\"\"\n",
    "    Given a key populates a dictionary\n",
    "    \"\"\"\n",
    "    data_dict[key] = unpickle_data(pickle_file)\n",
    "    \n",
    "    \n",
    "def populate_k_shot_acc_dict(data_dict, key, k_shot_dict):\n",
    "    num_runs = data_dict[key]['mean'].shape[0]\n",
    "    k_shot_dict[key] = []\n",
    "    for run in range(num_runs):\n",
    "        key_acc = data_dict[key]['mean'][run]\n",
    "        num_batches = key_acc.shape[1]\n",
    "        num_tasks = key_acc.shape[0]\n",
    "        k_shot_acc = np.zeros([num_batches], dtype=np.float32)\n",
    "        for i in range(num_batches):\n",
    "            acc = 0.0\n",
    "            for j in range(num_tasks):\n",
    "                acc += key_acc[j,i,j]\n",
    "            k_shot_acc[i] = acc/ num_tasks\n",
    "        \n",
    "        k_shot_dict[key].append(k_shot_acc)\n",
    "        \n",
    "    k_shot_dict[key] = np.array(k_shot_dict[key])\n",
    "\n",
    "def populate_k_shot_acc_dict_with_varying_batches(data_dict, key, k_shot_dict):\n",
    "    num_runs = data_dict[key]['mean'].shape[0]\n",
    "    k_shot_dict[key] = []\n",
    "    for run in range(num_runs):\n",
    "        key_acc = data_dict[key]['mean'][run]\n",
    "        num_tasks = key_acc.shape[0]\n",
    "      \n",
    "        batches_per_task = []\n",
    "        for i in range(num_tasks):\n",
    "            batches_per_task.append(np.max(np.nonzero(np.sum(key_acc[i], axis=1))))\n",
    "\n",
    "      \n",
    "        batches_per_task = np.array(batches_per_task) + 1\n",
    "        max_batches = np.max(batches_per_task)\n",
    "        k_shot_acc = np.zeros([max_batches], dtype=np.float32)\n",
    "    \n",
    "        for i in range(max_batches):\n",
    "            acc = 0.0\n",
    "            task_count_with_this_batch = 0\n",
    "            for j in range(num_tasks):\n",
    "                if i < batches_per_task[j]: \n",
    "                    acc += key_acc[j,i,j]\n",
    "                    task_count_with_this_batch += 1\n",
    "                else:\n",
    "                    acc += key_acc[j,batches_per_task[j]-1,j]\n",
    "            k_shot_acc[i] = acc/ num_tasks\n",
    "        \n",
    "        \n",
    "        k_shot_dict[key].append(k_shot_acc)\n",
    "    \n",
    "    k_shot_dict[key] = np.array(k_shot_dict[key])\n",
    "    \n",
    "    return batches_per_task    \n",
    "\n",
    "\n",
    "def compute_fgt(acc, key):\n",
    "    num_tasks = acc.shape[0] \n",
    "    last_batch_dim = acc.shape[1] - 1 \n",
    "    fgt_msr = np.zeros([num_tasks-1]) \n",
    "    worst_case_fgt = np.zeros([num_tasks-1]) \n",
    "    for i in range(num_tasks):\n",
    "        if i == 0:\n",
    "            pass\n",
    "        else:\n",
    "            wst_fgt_i = []\n",
    "            fgt_i = 0.0\n",
    "            for j in range(i):\n",
    "                if key == 'GEM' or key == 'ICARL':\n",
    "                    fgt_per_task = np.amax(acc[:i,j]) - acc[i,j]\n",
    "                else:\n",
    "                    fgt_per_task = np.amax(acc[:i,last_batch_dim,j]) - acc[i,last_batch_dim,j]\n",
    "                        \n",
    "                fgt_i += fgt_per_task\n",
    "                wst_fgt_i.append(fgt_per_task)\n",
    "            fgt_msr[i-1] = fgt_i/ (j+1)\n",
    "            wst_fgt_i = np.array(wst_fgt_i)\n",
    "            worst_case_fgt[i-1] = np.max(wst_fgt_i)\n",
    "                \n",
    "    return fgt_msr, worst_case_fgt  \n",
    "\n",
    "\n",
    "def compute_fgt_with_varying_batches(data_dict, batches_per_task):\n",
    "    fgt_msr = dict()\n",
    "    for key in data_dict:\n",
    "        acc = data_dict[key]\n",
    "        num_tasks = acc.shape[0] \n",
    "        last_batch_acc_for_all_tasks = np.zeros([num_tasks, num_tasks])\n",
    "        \n",
    "        \n",
    "        for i in range(num_tasks):\n",
    "            last_batch_acc_for_all_tasks[i] = acc[i][batches_per_task[i]-1]\n",
    "        \n",
    "        fgt_msr[key] = np.zeros([num_tasks-1]) \n",
    "        for i in range(num_tasks):\n",
    "            if i == 0:\n",
    "                pass\n",
    "            else:\n",
    "                fgt_i = 0.0\n",
    "                for j in range(i):\n",
    "                    fgt_i += (np.amax(last_batch_acc_for_all_tasks[:i,j]) - last_batch_acc_for_all_tasks[i,j])\n",
    "                fgt_msr[key][i-1] = fgt_i/ (j+1)\n",
    "                \n",
    "    return fgt_msr\n",
    "\n",
    "def average_acc_stats_across_runs(data, key):\n",
    "    \"\"\"\n",
    "    Compute the average accuracy statistics (mean and std) across runs\n",
    "    \"\"\"\n",
    "    num_runs = data.shape[0]\n",
    "    avg_acc = np.zeros(num_runs)\n",
    "    for i in range(num_runs):\n",
    "        if key == 'GEM':\n",
    "            avg_acc[i] = np.mean(data[i][-1])\n",
    "        else:\n",
    "            avg_acc[i] = np.mean(data[i][-1, -1])\n",
    "        \n",
    "    return avg_acc.mean()*100, avg_acc.std()*100\n",
    "\n",
    "def average_fgt_stats_across_runs(data, key):\n",
    "    \"\"\"\n",
    "    Compute the forgetting statistics (mean and std) across runs\n",
    "    \"\"\"\n",
    "    num_runs = data.shape[0]\n",
    "    fgt = np.zeros(num_runs)\n",
    "    wst_fgt = np.zeros(num_runs)\n",
    "    for i in range(num_runs):\n",
    "        fgt_i, wst_fgt_i = compute_fgt(data[i], key)\n",
    "        #print('{}, {}'.format(i, fgt_i))\n",
    "        fgt[i] = fgt_i[-1]\n",
    "        wst_fgt[i] = wst_fgt_i[-1]\n",
    "        \n",
    "    return fgt.mean(), fgt.std(), wst_fgt.mean(), wst_fgt.std()\n",
    "        \n",
    "\n",
    "def plot_k_shot_performance_task_view(n, data_dict, keys, plt_name):\n",
    "    plt.figure(figsize=(14, 7))\n",
    "    num_windows = len(keys)\n",
    "    for i, key in enumerate(keys):\n",
    "        data = data_dict[key]\n",
    "        num_tasks = data.shape[0]\n",
    "        plt.subplot(math.ceil((num_windows+1)/2), math.ceil((num_windows+1)/2), (i+1))\n",
    "        for k in range(n):\n",
    "            acc = np.zeros([num_tasks])\n",
    "            for task in range(num_tasks):\n",
    "                acc[task] = data[task, k, task]\n",
    "            plt.plot(np.arange(1,num_tasks+1), acc, label='%d-shot'%(k))\n",
    "        plt.xlabel('Tasks-%s'%(key))\n",
    "        plt.ylabel('Avg_Acc')\n",
    "        plt.xticks(np.arange(1, num_tasks+1))\n",
    "    plt.tight_layout()\n",
    "    #plt.legend(loc='best')\n",
    "    plt.legend(loc=6, bbox_to_anchor=(1, 0.5))\n",
    "    plt.savefig(plt_name)\n",
    "    \n",
    "def plot_k_shot_performance_method_view(n, data_dict, plt_name):\n",
    "    plt.figure(figsize=(14, 7))\n",
    "    for k in range(n):\n",
    "        plt.subplot(n//2, n//2, (k+1))\n",
    "        for i, key in enumerate(data_dict):\n",
    "            num_tasks = data_dict[key].shape[0]\n",
    "            acc = np.zeros(num_tasks)\n",
    "            for task in range(num_tasks):\n",
    "                acc[task] = data_dict[key][task, k, task]\n",
    "            plt.plot(np.arange(1,num_tasks+1), acc, label=key)\n",
    "        plt.xlabel('Tasks(%d-shot)'%(k))\n",
    "        plt.ylabel('Avg_Acc')\n",
    "        plt.xticks(np.arange(1, num_tasks+1))\n",
    "    plt.tight_layout()\n",
    "    plt.legend(loc='best')\n",
    "    #plt.savefig(plt_name)    \n",
    "    "
   ]
  },
  {
   "cell_type": "code",
   "execution_count": 3,
   "metadata": {},
   "outputs": [],
   "source": [
    "def plot_average_accuracy_along_training_path(data_mean, plot_name=None, is_cifar=False):\n",
    "    \"\"\"\n",
    "    Plot the average accuracy along the training path\n",
    "    \"\"\"\n",
    "    plt.clf()\n",
    "    K_FOR_CROSS_VAL = 3\n",
    "    avg_acc_dict = dict()\n",
    "    for key in data_mean:\n",
    "        if key == 'ICARL':\n",
    "            data = data_mean[key]\n",
    "            num_tasks = data.shape[0] - K_FOR_CROSS_VAL\n",
    "        else:\n",
    "            data = data_mean[key]['mean'].mean(0)\n",
    "            num_tasks = data.shape[0]\n",
    "        avg_acc = np.zeros(num_tasks)\n",
    "        for i in range(num_tasks):\n",
    "            if key == 'MULTI-TASK':\n",
    "                avg_acc[i] = np.mean(data)\n",
    "            elif key == 'ICARL':\n",
    "                avg_acc[i] = np.mean(data[i,:i+1])\n",
    "            elif key == 'GEM':\n",
    "                avg_acc[i] = np.mean(data[i,:i+1])\n",
    "            else:\n",
    "                avg_acc[i] = np.mean(data[i,-1,:i+1])\n",
    "        print(key, avg_acc[-1])\n",
    "        avg_acc_dict[key] = avg_acc\n",
    "\n",
    "    \n",
    "    fig = plt.figure(figsize=(8,2.5))\n",
    "    ax = fig.add_axes([0.15, 0.21, 0.6, 0.75])\n",
    "    tasks = np.arange(1, num_tasks+1)\n",
    "    \n",
    "    colors = {'MULTI-TASK':'-k', 'VAN': 'C0', 'ICARL':'C1', 'EWC': '-m', 'PI': '-b', 'MAS': '-y', \n",
    "              'RWALK':'-g', 'PROG-NN':'C5--', 'GEM':'-c', 'A-GEM':'-r', 'MER': 'C6'}\n",
    "    \n",
    "        \n",
    "    for i, key in enumerate(data_mean):\n",
    "        if key == 'MULTI-TASK':\n",
    "            continue\n",
    "        else:\n",
    "            if key == 'A-GEM':\n",
    "                ax.plot(tasks, avg_acc_dict[key],'%s'%(colors[key]), marker='^', markersize=7, lw=2, label=key)\n",
    "            else:\n",
    "                ax.plot(tasks, avg_acc_dict[key],'%s'%(colors[key]), lw=2, label=key)\n",
    "                \n",
    "    line, =  ax.plot(tasks, avg_acc_dict['MULTI-TASK'],'%s'%(colors['MULTI-TASK']), lw=2, label='MULTI-TASK')\n",
    "    line.set_dashes([2, 2, 10, 2])\n",
    "        \n",
    "    if is_cifar:\n",
    "        ax.legend(bbox_to_anchor=(1, 1), loc=2, borderaxespad=0.2)\n",
    "    \n",
    "    ax.set_xlabel('Tasks', size=20)\n",
    "    ax.set_ylabel('Avg Accuracy', size=20)\n",
    "    plt.xticks(tasks)\n",
    "    plt.grid()\n",
    "\n",
    "    \n",
    "    if plot_name is not None:\n",
    "        plt.savefig(plot_name)\n",
    "    else:\n",
    "        plt.show()"
   ]
  },
  {
   "cell_type": "code",
   "execution_count": 4,
   "metadata": {
    "scrolled": false
   },
   "outputs": [],
   "source": [
    "def get_zero_shot_perf(data_mean_ohot, data_mean_je):\n",
    "    \"\"\"\n",
    "    Plot the zero-shot performance against the number of tasks\n",
    "    \"\"\"\n",
    "    zero_shot_ohot_perf = dict()\n",
    "    zero_shot_je_perf = dict()\n",
    "    \n",
    "    for key in data_mean_ohot:\n",
    "        if key == 'MULTI-TASK' or key == 'GEM':\n",
    "            continue\n",
    "        \n",
    "        data_ohot = data_mean_ohot[key]['mean'].mean(0)\n",
    "        data_je = data_mean_je[key]['mean'].mean(0)\n",
    "        num_tasks = data_ohot.shape[0] \n",
    "        \n",
    "        zst_ohot_perf = np.zeros(num_tasks)\n",
    "        zst_je_perf = np.zeros(num_tasks)\n",
    "        \n",
    "        #if (data_ohot.shape[0] != num_tasks) or (data_je.shape[0] != num_tasks):\n",
    "        #    continue\n",
    "            \n",
    "        for i in range(num_tasks):\n",
    "            zst_ohot_perf[i] = data_ohot[i,0,i]\n",
    "            zst_je_perf[i] = data_je[i,0,i]\n",
    "            \n",
    "        zero_shot_ohot_perf[key] = zst_ohot_perf\n",
    "        zero_shot_je_perf[key] = zst_je_perf\n",
    "    \n",
    "    return zero_shot_ohot_perf, zero_shot_je_perf\n",
    "        "
   ]
  },
  {
   "cell_type": "code",
   "execution_count": 5,
   "metadata": {
    "scrolled": false
   },
   "outputs": [],
   "source": [
    "def bar_plot_k_shot_performance(data_dict, shot, is_cifar=False, plt_name=None):\n",
    "    num_tasks = data_dict['VAN'].shape[0]\n",
    "    ind = np.arange(1, num_tasks+1) # the x locations for the groups\n",
    "    width = 0.15 # the width of the bars\n",
    "    colors = ['r', 'g', 'b', 'c', 'y']\n",
    "    plt.clf()\n",
    "    for col_ind, key in enumerate(data_dict):\n",
    "        acc = np.zeros([num_tasks])\n",
    "        for task in range(num_tasks):\n",
    "            acc[task] = data_dict[key][task,shot,task]\n",
    "        p1 = plt.bar(ind+width*col_ind, acc, width, color='%s'%(colors[col_ind]), bottom=0, label=key)\n",
    "    \n",
    "    plt.xticks(np.arange(1, num_tasks+1)) # add loads of ticks\n",
    "\n",
    "    plt.gca().margins(x=0)\n",
    "    plt.gcf().canvas.draw()\n",
    "    tl = plt.gca().get_xticklabels()\n",
    "    maxsize = max([t.get_window_extent().width for t in tl])\n",
    "    m = 0.5 # inch margin\n",
    "    s = maxsize/plt.gcf().dpi*num_tasks+10*m\n",
    "    margin = m/plt.gcf().get_size_inches()[0]\n",
    "\n",
    "    plt.gcf().subplots_adjust(left=margin, right=1.-margin)\n",
    "    plt.gcf().set_size_inches(s, plt.gcf().get_size_inches()[1])\n",
    "    \n",
    "    if is_cifar:\n",
    "        plt.title('%d-Shot Performance'%(shot*5))\n",
    "    else:\n",
    "        plt.title('%d-Shot Performance'%(shot))\n",
    "    plt.legend(loc=6, bbox_to_anchor=(1, 0.8))\n",
    "    plt.xlabel('Tasks')\n",
    "    plt.ylabel('Avg_Acc')    \n",
    "    #plt.show()\n",
    "    plt.savefig(plt_name)\n",
    "    "
   ]
  },
  {
   "cell_type": "markdown",
   "metadata": {},
   "source": [
    "# PERMUTE MNIST"
   ]
  },
  {
   "cell_type": "code",
   "execution_count": 37,
   "metadata": {},
   "outputs": [],
   "source": [
    "a_gem_pickle = 'path_to_pickle_file_generated_after_training'\n",
    "\n",
    "NUM_RUNS = 5\n",
    "MODELS = [ 'A-GEM']"
   ]
  },
  {
   "cell_type": "code",
   "execution_count": 38,
   "metadata": {
    "scrolled": false
   },
   "outputs": [],
   "source": [
    "data_mean = dict()\n",
    "populate_data_dict(data_mean, 'A-GEM', a_gem_pickle)\n",
    "\n",
    "\n",
    "avg_k_shot_acc = dict()\n",
    "\n",
    "populate_k_shot_acc_dict(data_mean, 'A-GEM', avg_k_shot_acc)"
   ]
  },
  {
   "cell_type": "code",
   "execution_count": 13,
   "metadata": {
    "scrolled": false
   },
   "outputs": [
    {
     "name": "stdout",
     "output_type": "stream",
     "text": [
      "('MAS', 0.6985364556312561)\n",
      "('VAN', 0.47952938079833984)\n",
      "('MULTI-TASK', 0.9537960290908813)\n",
      "('PROG-NN', 0.9354565143585205)\n",
      "('EWC', 0.6834882497787476)\n",
      "('A-GEM', 0.8911787867546082)\n",
      "('RWALK', 0.857968270778656)\n",
      "('GEM', 0.8958470588235294)\n"
     ]
    },
    {
     "data": {
      "text/plain": [
       "<Figure size 432x288 with 0 Axes>"
      ]
     },
     "metadata": {},
     "output_type": "display_data"
    },
    {
     "data": {
      "image/png": "[encoded data removed]",
      "text/plain": [
       "<Figure size 576x180 with 1 Axes>"
      ]
     },
     "metadata": {},
     "output_type": "display_data"
    }
   ],
   "source": [
    "plot_average_accuracy_along_training_path(data_mean, 'iclr_plots/mnist_average_accuracy.pdf')"
   ]
  },
  {
   "cell_type": "markdown",
   "metadata": {},
   "source": [
    "### Average Accuracy and Forgetting Measure"
   ]
  },
  {
   "cell_type": "code",
   "execution_count": 39,
   "metadata": {
    "scrolled": false
   },
   "outputs": [
    {
     "name": "stdout",
     "output_type": "stream",
     "text": [
      "MAS=> Acc: 69.8536467552 (+-0.934640017162), Fgt: 0.268572501838 (+-0.0100729938001), Wst Fgt: 0.587360012531 (+-0.027087299643)\n",
      "VAN=> Acc: 47.9529416561 (+-1.317261874), Fgt: 0.510611252487 (+-0.0139219331308), Wst Fgt: 0.779999995232 (+-0.0271953681577)\n",
      "MULTI-TASK: 0.953796029091\n",
      "PROG-NN=> Acc: 93.5456466675 (+-0.0672649044055), Fgt: 0.0 (+-0.0), Wst Fgt: 0.0 (+-0.0)\n",
      "EWC=> Acc: 68.3488249779 (+-0.688293326267), Fgt: 0.288316249475 (+-0.00747878974325), Wst Fgt: 0.578699982166 (+-0.0360688897624)\n",
      "A-GEM=> Acc: 89.1178810596 (+-0.145538700981), Fgt: 0.0695875033736 (+-0.00146231043289), Wst Fgt: 0.13083999157 (+-0.00925085520745)\n",
      "RWALK=> Acc: 85.7968246937 (+-0.568200764609), Fgt: 0.0820575013757 (+-0.00677982812048), Wst Fgt: 0.160260009766 (+-0.0298994666151)\n",
      "GEM=> Acc: 90.2967058824 (+-0.149668884831), Fgt: 0.05532875 (+-0.00235690010925), Wst Fgt: 0.09684 (+-0.00717791055949)\n"
     ]
    }
   ],
   "source": [
    "for key in data_mean:\n",
    "    if key == 'MULTI-TASK':\n",
    "        print('{}: {}'.format(key, np.mean(data_mean[key]['mean'][-1])))\n",
    "    else:\n",
    "        acc_mean, acc_std = average_acc_stats_across_runs(data_mean[key]['mean'], key)\n",
    "        fgt_mean, fgt_std, wst_fgt_mean, wst_fgt_std = average_fgt_stats_across_runs(data_mean[key]['mean'], key)\n",
    "        print('{}=> Acc: {} (+-{}), Fgt: {} (+-{}), Wst Fgt: {} (+-{})'.format(key, acc_mean, \n",
    "                                                                               acc_std, fgt_mean, \n",
    "                                                                               fgt_std, wst_fgt_mean, \n",
    "                                                                               wst_fgt_std))"
   ]
  },
  {
   "cell_type": "markdown",
   "metadata": {},
   "source": [
    "### LCA Measure"
   ]
  },
  {
   "cell_type": "code",
   "execution_count": 9,
   "metadata": {
    "scrolled": true
   },
   "outputs": [
    {
     "name": "stdout",
     "output_type": "stream",
     "text": [
      "LCA_10 classification models:\n",
      "MAS: 0.294706057012 (+-0.00389778462622)\n",
      "VAN: 0.26160264805 (+-0.00670447014861)\n",
      "PROG-NN: 0.197896528393 (+-0.00618755975804)\n",
      "EWC: 0.276040763855 (+-0.00317074618471)\n",
      "A-GEM: 0.291115294695 (+-0.00459682817637)\n",
      "RWALK: 0.316155999303 (+-0.00566788402049)\n",
      "GEM: 0.233861469)\n"
     ]
    }
   ],
   "source": [
    "num_iters = 55000/ 10\n",
    "num_batches = []\n",
    "for iters in range(num_iters):\n",
    "    if (iters < 10) or (iters < 100 and iters % 10 == 0) or (iters % 100 == 0):\n",
    "        num_batches.append(iters)\n",
    "num_batches.append(num_iters)\n",
    "gem_avg_k_shot = np.array([ 0.09812353,  0.1610647 ,  0.17345884,  0.20008238,  0.19457644,\n",
    "        0.23791176,  0.26005882,  0.27361766,  0.30264702,  0.32512945,\n",
    "        0.32201171])\n",
    "\n",
    "BATCHES_WE_CARE = 10\n",
    "num_runs = avg_k_shot_acc['VAN'].shape[0]\n",
    "area_trapz = dict()\n",
    "\n",
    "area_trapz['A-GEM'] = np.zeros([num_runs, BATCHES_WE_CARE+1])\n",
    "\n",
    "\n",
    "for run in range(num_runs):\n",
    "    for measure_upto in range(1, BATCHES_WE_CARE+2):\n",
    "        batches_upto = num_batches[:measure_upto]\n",
    "        if measure_upto == 1:\n",
    "           \n",
    "            area_trapz['A-GEM'][run][measure_upto-1] = avg_k_shot_acc['A-GEM'][run][0]\n",
    "        else:\n",
    "            # Using trapezoidal rule\n",
    "            max_acc = np.ones_like(batches_upto)\n",
    "            max_area_trapz = np.trapz(max_acc, batches_upto)\n",
    "            \n",
    "            area_trapz['A-GEM'][run][measure_upto-1] = np.trapz(avg_k_shot_acc['A-GEM'][run][:measure_upto], batches_upto)/ max_area_trapz\n",
    "            \n",
    "print('LCA_10 classification models:')\n",
    "for key in area_trapz:\n",
    "    if key == 'GEM':\n",
    "        print('{}: {})'.format(key, area_trapz[key][10]))\n",
    "    else:\n",
    "        lca_10 = area_trapz[key][:, 10]\n",
    "        print('{}: {} (+-{})'.format(key, lca_10.mean(), lca_10.std()))"
   ]
  },
  {
   "cell_type": "code",
   "execution_count": 11,
   "metadata": {
    "scrolled": false
   },
   "outputs": [
    {
     "data": {
      "image/png": "[encoded data removed]",
      "text/plain": [
       "<Figure size 576x180 with 1 Axes>"
      ]
     },
     "metadata": {},
     "output_type": "display_data"
    }
   ],
   "source": [
    "batches_we_care = np.arange(BATCHES_WE_CARE+1)\n",
    "fig = plt.figure(figsize=(8, 2.5))\n",
    "ax = fig.add_axes([0.15, 0.21, 0.6, 0.75])\n",
    "\n",
    "\n",
    "ax.plot(batches_we_care, np.mean(area_trapz['A-GEM'], axis=0),'-r', marker='^', markersize=7, lw=2, label='A-GEM')\n",
    "\n",
    "\n",
    "ax.set_xlabel('Batches', size=20)\n",
    "ax.set_ylabel('LCA', size=20)\n",
    "plt.xticks(batches_we_care)\n",
    "#ax.legend(bbox_to_anchor=(1, 1), loc=2, borderaxespad=0.2)\n",
    "#ax.legend(loc='best', borderaxespad=0.2)\n",
    "plt.grid()\n",
    "#plt.show()\n",
    "plt.savefig('iclr_plots/fam_mnist.pdf')"
   ]
  }
 ],
 "metadata": {
  "kernelspec": {
   "display_name": "Python 2",
   "language": "python",
   "name": "python2"
  },
  "language_info": {
   "codemirror_mode": {
    "name": "ipython",
    "version": 2
   },
   "file_extension": ".py",
   "mimetype": "text/x-python",
   "name": "python",
   "nbconvert_exporter": "python",
   "pygments_lexer": "ipython2",
   "version": "2.7.15"
  }
 },
 "nbformat": 4,
 "nbformat_minor": 2
}
